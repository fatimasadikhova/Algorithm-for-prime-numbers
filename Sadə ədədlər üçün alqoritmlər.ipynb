{
 "cells": [
  {
   "cell_type": "code",
   "execution_count": 2,
   "id": "b101db86-06f3-47ee-8101-a0474a0c4fa8",
   "metadata": {},
   "outputs": [
    {
     "name": "stdout",
     "output_type": "stream",
     "text": [
      "True\n"
     ]
    }
   ],
   "source": [
    "#ədədin sadə olub-olmadığını yoxlayan proqram\n",
    "def prime(n):\n",
    "    # Mənfi ədədlər, 0 və 1 sadə deyil\n",
    "    if n <= 1:\n",
    "        return False\n",
    "    # 2 və 3 birbaşa sadə ədəddir\n",
    "    if n <= 3:\n",
    "        return True\n",
    "    # 2 və ya 3-ə bölünənlər sadə deyil\n",
    "    if n % 2 == 0 or n % 3 == 0:\n",
    "        return False\n",
    "    # Bölənləri 5-dən başlayaraq yoxla, yalnız 6k ± 1 formasında olan ədədlər\n",
    "    i = 5\n",
    "    while i * i <= n:\n",
    "        if n % i == 0 or n % (i + 2) == 0:\n",
    "            return False\n",
    "        i += 6\n",
    "    return True\n",
    "print(prime(29))"
   ]
  },
  {
   "cell_type": "code",
   "execution_count": 4,
   "id": "471a5850-0a2f-4c48-88fe-716adb16346a",
   "metadata": {},
   "outputs": [
    {
     "name": "stdout",
     "output_type": "stream",
     "text": [
      "False\n"
     ]
    }
   ],
   "source": [
    "def prime(n):\n",
    "    if n <= 1:\n",
    "        return False\n",
    "    for i in range(2, int(n**0.5) + 1):\n",
    "        if n % i == 0:\n",
    "            return False\n",
    "    return True\n",
    "print(prime(12))"
   ]
  },
  {
   "cell_type": "code",
   "execution_count": 8,
   "id": "0b383e56-e308-4b4f-93f5-f54d0285e665",
   "metadata": {},
   "outputs": [
    {
     "name": "stdin",
     "output_type": "stream",
     "text": [
      "n-i daxil edin:  30\n"
     ]
    },
    {
     "name": "stdout",
     "output_type": "stream",
     "text": [
      "2 3 5 7 11 13 17 19 23 29 "
     ]
    }
   ],
   "source": [
    "#Sieve of Eratosthenes alqoritmi-\n",
    "#n-ə qədər olan sadə ədədləri çap edən proqram\n",
    "n = int(input(\"n-i daxil edin: \"))\n",
    "for num in range(2, n + 1):\n",
    "    is_prime = True\n",
    "    for i in range(2, int(num**0.5) + 1):\n",
    "        if num % i == 0:\n",
    "            is_prime = False\n",
    "            break\n",
    "    if is_prime:\n",
    "        print(num, end=\" \")\n"
   ]
  },
  {
   "cell_type": "code",
   "execution_count": 12,
   "id": "e82a89d4-049d-45fc-85e9-b5db37f5529d",
   "metadata": {},
   "outputs": [
    {
     "name": "stdout",
     "output_type": "stream",
     "text": [
      "True\n"
     ]
    }
   ],
   "source": [
    "#Miller-Rabin Primality Test \n",
    "import random\n",
    "\n",
    "def is_prime_miller_rabin(n, k=5):  # k is the number of tests\n",
    "    if n <= 1:\n",
    "        return False\n",
    "    if n <= 3:\n",
    "        return True\n",
    "    if n % 2 == 0:\n",
    "        return False\n",
    "\n",
    "    # Write n as d * 2^r + 1\n",
    "    r, d = 0, n - 1\n",
    "    while d % 2 == 0:\n",
    "        r += 1\n",
    "        d //= 2\n",
    "\n",
    "    # Test k times\n",
    "    for _ in range(k):\n",
    "        a = random.randint(2, n - 2)\n",
    "        x = pow(a, d, n)  # Compute a^d % n\n",
    "        if x == 1 or x == n - 1:\n",
    "            continue\n",
    "        for _ in range(r - 1):\n",
    "            x = pow(x, 2, n)\n",
    "            if x == n - 1:\n",
    "                break\n",
    "        else:\n",
    "            return False\n",
    "    return True\n",
    "print(is_prime_miller_rabin(101))  # Output: True\n"
   ]
  },
  {
   "cell_type": "code",
   "execution_count": 24,
   "id": "1f5f335c-625e-4e83-9511-1c47eb0d40df",
   "metadata": {},
   "outputs": [
    {
     "name": "stdin",
     "output_type": "stream",
     "text": [
      "Sadə ədədləri nə qədər istədiyinizi daxil edin:  10\n"
     ]
    },
    {
     "name": "stdout",
     "output_type": "stream",
     "text": [
      "2 3 5 7 11 13 17 19 23 29 "
     ]
    }
   ],
   "source": [
    "#Prime Number Generator\n",
    "limit = int(input(\"Sadə ədədləri nə qədər istədiyinizi daxil edin: \"))\n",
    "\n",
    "primes = []  # Sadə ədədləri saxlamaq üçün siyahı\n",
    "candidate = 2  # İlk potensial sadə ədəd\n",
    "\n",
    "while len(primes) < limit:\n",
    "    is_prime = True\n",
    "    for p in primes:\n",
    "        if p * p > candidate:\n",
    "            break\n",
    "        if candidate % p == 0:\n",
    "            is_prime = False\n",
    "            break\n",
    "    if is_prime:\n",
    "        primes.append(candidate)\n",
    "        print(candidate, end=\" \")\n",
    "    candidate += 1\n"
   ]
  },
  {
   "cell_type": "code",
   "execution_count": 4,
   "id": "f971d250-ee11-435f-9d71-0111f18d09a2",
   "metadata": {},
   "outputs": [
    {
     "name": "stdin",
     "output_type": "stream",
     "text": [
      "p-nin dəyərini daxil edin:  29\n"
     ]
    },
    {
     "name": "stdout",
     "output_type": "stream",
     "text": [
      "Mersenne ədədi: 536870911\n"
     ]
    }
   ],
   "source": [
    "#Specialized Prime Number Algorithms - Mersenne primes\n",
    "p = int(input(\"p-nin dəyərini daxil edin: \"))\n",
    "\n",
    "if p <= 1:\n",
    "    print(f\"{p} sadə deyil.\")\n",
    "else:\n",
    "    is_prime = True\n",
    "    for i in range(2, int(p**0.5) + 1):\n",
    "        if p % i == 0:\n",
    "            is_prime = False\n",
    "            break\n",
    "    if is_prime:\n",
    "        mersenne_prime = 2**p - 1\n",
    "        print(f\"Mersenne ədədi: {mersenne_prime}\")\n",
    "    else:\n",
    "        print(f\"{p} sadə deyil, ona görə Mersenne ədədi hesablanmır.\")\n",
    "\n"
   ]
  },
  {
   "cell_type": "code",
   "execution_count": 6,
   "id": "2581854c-0fff-4fca-bf0c-f2ea3dfa364c",
   "metadata": {},
   "outputs": [
    {
     "name": "stdin",
     "output_type": "stream",
     "text": [
      "Sadəliyi yoxlamaq üçün p-nin dəyərini daxil edin:  23\n"
     ]
    },
    {
     "name": "stdout",
     "output_type": "stream",
     "text": [
      "8388607 sadə deyil.\n"
     ]
    }
   ],
   "source": [
    "#Lucas-Lehmer Test (Mersenne Prime Check)\n",
    "p = int(input(\"Sadəliyi yoxlamaq üçün p-nin dəyərini daxil edin: \"))\n",
    "\n",
    "if p <= 1:\n",
    "    print(\"p sadə olmalıdır!\")\n",
    "else:\n",
    "    is_prime = True\n",
    "    for i in range(2, int(p**0.5) + 1):\n",
    "        if p % i == 0:\n",
    "            is_prime = False\n",
    "            break\n",
    "\n",
    "    if is_prime:\n",
    "        mersenne_prime = 2**p - 1\n",
    "        s = 4\n",
    "        for _ in range(p - 2):\n",
    "            s = (s * s - 2) % mersenne_prime\n",
    "        if s == 0:\n",
    "            print(f\"{mersenne_prime} sadədir.\")\n",
    "        else:\n",
    "            print(f\"{mersenne_prime} sadə deyil.\")\n",
    "    else:\n",
    "        print(f\"{p} sadə deyil, ona görə Mersenne yoxlanılmır.\")\n"
   ]
  },
  {
   "cell_type": "code",
   "execution_count": 11,
   "id": "6720bb56-3fb1-4ae3-abf9-0b5d625710f8",
   "metadata": {},
   "outputs": [
    {
     "name": "stdin",
     "output_type": "stream",
     "text": [
      "n-in dəyərini daxil edin:  2\n"
     ]
    },
    {
     "name": "stdout",
     "output_type": "stream",
     "text": [
      "Fermat ədədi 17 sadədir.\n"
     ]
    }
   ],
   "source": [
    "#Fermat Numbers\n",
    "n = int(input(\"n-in dəyərini daxil edin: \"))\n",
    "\n",
    "fermat_number = 2**(2**n) + 1\n",
    "is_prime = True\n",
    "\n",
    "for i in range(2, int(fermat_number**0.5) + 1):\n",
    "    if fermat_number % i == 0:\n",
    "        is_prime = False\n",
    "        break\n",
    "\n",
    "if is_prime:\n",
    "    print(f\"Fermat ədədi {fermat_number} sadədir.\")\n",
    "else:\n",
    "    print(f\"Fermat ədədi {fermat_number} sadə deyil.\")\n"
   ]
  },
  {
   "cell_type": "code",
   "execution_count": null,
   "id": "96ee4ca5-fa5c-498c-a836-2e29fec48fc4",
   "metadata": {},
   "outputs": [],
   "source": []
  }
 ],
 "metadata": {
  "kernelspec": {
   "display_name": "Python 3 (ipykernel)",
   "language": "python",
   "name": "python3"
  },
  "language_info": {
   "codemirror_mode": {
    "name": "ipython",
    "version": 3
   },
   "file_extension": ".py",
   "mimetype": "text/x-python",
   "name": "python",
   "nbconvert_exporter": "python",
   "pygments_lexer": "ipython3",
   "version": "3.12.4"
  }
 },
 "nbformat": 4,
 "nbformat_minor": 5
}
